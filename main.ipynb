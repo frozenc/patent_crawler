{
 "cells": [
  {
   "cell_type": "markdown",
   "metadata": {},
   "source": [
    "## 专利之星检索系统爬虫"
   ]
  },
  {
   "cell_type": "code",
   "execution_count": 1,
   "metadata": {},
   "outputs": [],
   "source": [
    "from main import *"
   ]
  },
  {
   "cell_type": "code",
   "execution_count": null,
   "metadata": {},
   "outputs": [
    {
     "name": "stdout",
     "output_type": "stream",
     "text": [
      "data文件夹中G12文件夹已存在\n",
      "json文件夹中G12文件夹已存在\n",
      "连接成功！\n",
      "正在爬取G12数据...\n",
      "get patent batch 1 / 1...\n"
     ]
    },
    {
     "data": {
      "application/vnd.jupyter.widget-view+json": {
       "model_id": "13b998bff85e448783cb7a54e6e3af85",
       "version_major": 2,
       "version_minor": 0
      },
      "text/plain": [
       "HBox(children=(IntProgress(value=0, max=153), HTML(value='')))"
      ]
     },
     "metadata": {},
     "output_type": "display_data"
    }
   ],
   "source": [
    "NoNumber = '010'\n",
    "ItemCount = '7639'\n",
    "kw = 'G12'\n",
    "user_agent = 'Mozilla/5.0 (Windows NT 10.0; Win64; x64; rv:70.0) Gecko/20100101 Firefox/70.0'\n",
    "cookie = 'UM_distinctid=16e816946db9-0cf68342b1ee25-4c302b7a-1fa400-16e816946dd344; CNZZDATA4400375=cnzz_eid%3D607432909-1574128285-%26ntime%3D1574327195; ASP.NET_SessionId=udjpbyakpkiatr3bafew5eyx'\n",
    "main_batch(NoNumber, ItemCount, kw, userAgent=user_agent, cookie=cookie)"
   ]
  }
 ],
 "metadata": {
  "kernelspec": {
   "display_name": "Python 3",
   "language": "python",
   "name": "python3"
  },
  "language_info": {
   "codemirror_mode": {
    "name": "ipython",
    "version": 3
   },
   "file_extension": ".py",
   "mimetype": "text/x-python",
   "name": "python",
   "nbconvert_exporter": "python",
   "pygments_lexer": "ipython3",
   "version": "3.7.0"
  }
 },
 "nbformat": 4,
 "nbformat_minor": 2
}
